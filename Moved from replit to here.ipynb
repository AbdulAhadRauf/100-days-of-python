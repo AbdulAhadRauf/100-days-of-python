{
  "nbformat": 4,
  "nbformat_minor": 0,
  "metadata": {
    "colab": {
      "provenance": [],
      "toc_visible": true,
      "authorship_tag": "ABX9TyOJRqr0cUIeOaFh2nSUcnQe",
      "include_colab_link": true
    },
    "kernelspec": {
      "name": "python3",
      "display_name": "Python 3"
    },
    "language_info": {
      "name": "python"
    }
  },
  "cells": [
    {
      "cell_type": "markdown",
      "metadata": {
        "id": "view-in-github",
        "colab_type": "text"
      },
      "source": [
        "<a href=\"https://colab.research.google.com/github/AbdulAhadRauf/100-days-of-python/blob/main/Moved%20from%20replit%20to%20here.ipynb\" target=\"_parent\"><img src=\"https://colab.research.google.com/assets/colab-badge.svg\" alt=\"Open In Colab\"/></a>"
      ]
    },
    {
      "cell_type": "code",
      "execution_count": 3,
      "metadata": {
        "colab": {
          "base_uri": "https://localhost:8080/"
        },
        "id": "EDYfiNoKlkkE",
        "outputId": "6fd117b3-a805-4c8c-c4f0-74bcf743795f"
      },
      "outputs": [
        {
          "output_type": "stream",
          "name": "stdout",
          "text": [
            "Enter Values1 2 3 4 5 6\n",
            "The highest score is 6\n"
          ]
        }
      ],
      "source": [
        "n=input(\"Enter Values\").split()\n",
        "for i in range(0,len(n)):\n",
        "  n[i]=int(n[i])\n",
        "\n",
        "highest_score=0\n",
        "for score in n:\n",
        "  if highest_score < score:\n",
        "    highest_score=score\n",
        "print(\"The highest score is\",highest_score)"
      ]
    }
  ]
}