{
  "nbformat": 4,
  "nbformat_minor": 0,
  "metadata": {
    "colab": {
      "provenance": [],
      "collapsed_sections": [
        "kgBG9KgzpR_W",
        "eBP04Jo-vBQ_"
      ],
      "authorship_tag": "ABX9TyOgCm9tyIsqTJZIxe0yDIlC",
      "include_colab_link": true
    },
    "kernelspec": {
      "name": "python3",
      "display_name": "Python 3"
    },
    "language_info": {
      "name": "python"
    }
  },
  "cells": [
    {
      "cell_type": "markdown",
      "metadata": {
        "id": "view-in-github",
        "colab_type": "text"
      },
      "source": [
        "<a href=\"https://colab.research.google.com/github/AbdulAhadRauf/100-days-of-python/blob/main/Day_8.ipynb\" target=\"_parent\"><img src=\"https://colab.research.google.com/assets/colab-badge.svg\" alt=\"Open In Colab\"/></a>"
      ]
    },
    {
      "cell_type": "markdown",
      "source": [
        "# Functions:\n",
        "> | Parameters and Arguments |\n",
        "\n",
        ">| Postitional and Keyword Arguments | \n",
        "---"
      ],
      "metadata": {
        "id": "6Xls806roepg"
      }
    },
    {
      "cell_type": "markdown",
      "source": [
        "Wall Paint Calculator\n",
        "---"
      ],
      "metadata": {
        "id": "kgBG9KgzpR_W"
      }
    },
    {
      "cell_type": "code",
      "source": [
        "import math"
      ],
      "metadata": {
        "id": "M5IOlJsTuk8v"
      },
      "execution_count": null,
      "outputs": []
    },
    {
      "cell_type": "code",
      "source": [
        "def Paint_Calculator(c, a, b):\n",
        "  answer=math.ceil((a*b)/c)\n",
        "  print(f'You need {answer} cans')"
      ],
      "metadata": {
        "id": "pXb4C7qctKJn"
      },
      "execution_count": null,
      "outputs": []
    },
    {
      "cell_type": "code",
      "execution_count": null,
      "metadata": {
        "colab": {
          "base_uri": "https://localhost:8080/"
        },
        "id": "Yas9iY-qodLW",
        "outputId": "294a1b2e-f4cd-4147-a737-e1f837fd20a7"
      },
      "outputs": [
        {
          "output_type": "stream",
          "name": "stdout",
          "text": [
            "What is the height 3\n",
            "What is the width 3\n",
            "You need 2 cans\n"
          ]
        }
      ],
      "source": [
        "Wall_height=int(input(\"What is the height \"))\n",
        "Wall_width=int(input(\"What is the width \"))\n",
        "Coverage = 5\n",
        "Paint_Calculator(a= Wall_height, b= Wall_width, c= Coverage)\n",
        "\n"
      ]
    },
    {
      "cell_type": "markdown",
      "source": [
        "Prime Number Checker\n",
        "---"
      ],
      "metadata": {
        "id": "eBP04Jo-vBQ_"
      }
    },
    {
      "cell_type": "code",
      "source": [
        "#Method 1 (My method)\n",
        "def Prime_Number_Calc(n):\n",
        "  for i in range(2,101):\n",
        "    if i==n:\n",
        "      continue\n",
        "    elif n%i==0:\n",
        "      print(\"is Not Prime\")\n",
        "      break\n",
        "    else:\n",
        "      print(\"is Prime\")\n",
        "      break"
      ],
      "metadata": {
        "id": "1oV67FKEvqD2"
      },
      "execution_count": null,
      "outputs": []
    },
    {
      "cell_type": "code",
      "source": [
        "#Method 2 (Easy method)\n",
        "def Prime_Number_Calc(n):\n",
        "  Flag = True\n",
        "  for i in range(2,n):\n",
        "    if n%i==0:\n",
        "      Flag = False\n",
        "  if Flag:\n",
        "    print(\"is Prime\")\n",
        "  else:\n",
        "    print(\"Is Not Prime\")"
      ],
      "metadata": {
        "id": "B8d3xzQ0ylz3"
      },
      "execution_count": null,
      "outputs": []
    },
    {
      "cell_type": "code",
      "source": [
        "\n",
        "user_input=int(input(\"Enter the number \"))\n",
        "Prime_Number_Calc(user_input)"
      ],
      "metadata": {
        "colab": {
          "base_uri": "https://localhost:8080/"
        },
        "id": "mszyzeTJwY2_",
        "outputId": "af7174ec-4580-4f44-e754-feabc2ca0e9f"
      },
      "execution_count": null,
      "outputs": [
        {
          "output_type": "stream",
          "name": "stdout",
          "text": [
            "Enter the number 100\n",
            "Is Not Prime\n"
          ]
        }
      ]
    },
    {
      "cell_type": "markdown",
      "source": [
        "**Cearsar Cypher Salad**\n",
        "---"
      ],
      "metadata": {
        "id": "H162LrYb2rS2"
      }
    },
    {
      "cell_type": "code",
      "source": [
        "List = ['a', 'b', 'c', 'd', 'e', 'f', 'g', 'h', 'i', 'j', 'k', 'l', 'm', 'n', 'o', 'p', 'q', 'r', 's', 't', 'u', 'v', 'w', 'x', 'y', 'z']\n",
        "Output=''"
      ],
      "metadata": {
        "id": "Tkn-jbb45zrH"
      },
      "execution_count": null,
      "outputs": []
    },
    {
      "cell_type": "code",
      "source": [
        "def Encrypt(word,shift):\n",
        "  answer=''\n",
        "  for i in word:\n",
        "    new_position = List.index(i)+ shift\n",
        "    new_position = new_position%26\n",
        "    answer += List[new_position]\n",
        "  print(f\"The Encrypted code is {answer}\")\n",
        "\n",
        "def Decrypt(word,shift):\n",
        "  answer=\"\"\n",
        "  for i in range(len(word)):\n",
        "    position = List.index(word[i])\n",
        "    new_pos = position - shift\n",
        "    new_pos = new_pos%26\n",
        "    answer+=List[new_pos]\n",
        "  print(f\"The Decrypted code is {answer}\")\n"
      ],
      "metadata": {
        "id": "9O9dN66856iG"
      },
      "execution_count": null,
      "outputs": []
    },
    {
      "cell_type": "code",
      "source": [
        "GoAgain=\"yes\"\n",
        "while GoAgain==\"yes\": \n",
        "  The_Word=input(\"What is the word \").lower()\n",
        "  How_much=int(input(\"By how much shift? \"))\n",
        "  TypeEnc=input(\"Do you want to encode or decode? \").lower()\n",
        "  if TypeEnc == \"encode\":\n",
        "    Encrypt(word=The_Word, shift=How_much)\n",
        "  elif TypeEnc == \"decode\":  \n",
        "    Decrypt(word=The_Word, shift=How_much)\n",
        "  else:\n",
        "    print(\"Enter something!\")\n",
        "  GoAgain = input(\"You wish to continue? Yes/No \").lower()"
      ],
      "metadata": {
        "colab": {
          "base_uri": "https://localhost:8080/"
        },
        "id": "w05kRWgr2yZk",
        "outputId": "56d9fecf-549c-4eda-82d3-67d767b33336"
      },
      "execution_count": null,
      "outputs": [
        {
          "name": "stdout",
          "output_type": "stream",
          "text": [
            "What is the word a\n",
            "By how much shift? 2\n",
            "Do you want to encode or decode? enecode\n",
            "Enter something!\n",
            "You wish to continue? Yes/No no\n"
          ]
        }
      ]
    }
  ]
}