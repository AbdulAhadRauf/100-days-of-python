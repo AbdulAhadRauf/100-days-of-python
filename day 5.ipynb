{
  "nbformat": 4,
  "nbformat_minor": 0,
  "metadata": {
    "colab": {
      "provenance": [],
      "collapsed_sections": [
        "2wI1P772qNvi",
        "z637KUflsJ2K",
        "p7f4Rw5NtySD"
      ],
      "authorship_tag": "ABX9TyM56FVH/JMHRDVACaToRIY4",
      "include_colab_link": true
    },
    "kernelspec": {
      "name": "python3",
      "display_name": "Python 3"
    },
    "language_info": {
      "name": "python"
    }
  },
  "cells": [
    {
      "cell_type": "markdown",
      "metadata": {
        "id": "view-in-github",
        "colab_type": "text"
      },
      "source": [
        "<a href=\"https://colab.research.google.com/github/AbdulAhadRauf/100-days-of-python/blob/main/day%205.ipynb\" target=\"_parent\"><img src=\"https://colab.research.google.com/assets/colab-badge.svg\" alt=\"Open In Colab\"/></a>"
      ]
    },
    {
      "cell_type": "markdown",
      "source": [
        "Higest score calculator \n",
        "---\n",
        "min max\n"
      ],
      "metadata": {
        "id": "2wI1P772qNvi"
      }
    },
    {
      "cell_type": "code",
      "execution_count": 4,
      "metadata": {
        "colab": {
          "base_uri": "https://localhost:8080/"
        },
        "id": "EDYfiNoKlkkE",
        "outputId": "b5faf70a-55f7-4f7b-f2d1-7ebc08aef034"
      },
      "outputs": [
        {
          "output_type": "stream",
          "name": "stdout",
          "text": [
            "Enter Values6 5 4 3 2 9\n",
            "The highest score is 9\n"
          ]
        }
      ],
      "source": [
        "n=input(\"Enter Values\").split()\n",
        "for i in range(0,len(n)):\n",
        "  n[i]=int(n[i])\n",
        "\n",
        "highest_score=0\n",
        "for score in n:\n",
        "  if highest_score < score:\n",
        "    highest_score=score\n",
        "print(\"The highest score is\",highest_score)"
      ]
    },
    {
      "cell_type": "markdown",
      "source": [
        "Que: Print all even numbers til 100 \n",
        "---"
      ],
      "metadata": {
        "id": "z637KUflsJ2K"
      }
    },
    {
      "cell_type": "code",
      "source": [
        "total=0\n",
        "for i in range(0,101,2):\n",
        "  total+=i\n",
        "print(\"The even numbers are\",total)"
      ],
      "metadata": {
        "colab": {
          "base_uri": "https://localhost:8080/"
        },
        "id": "MGSUcqlMsPzi",
        "outputId": "8cbc0557-00f9-4ac4-c20f-5dcbf25504f3"
      },
      "execution_count": 7,
      "outputs": [
        {
          "output_type": "stream",
          "name": "stdout",
          "text": [
            "The even numbers are 2550\n"
          ]
        }
      ]
    },
    {
      "cell_type": "markdown",
      "source": [
        "Fizz Buzz exercise\n",
        "---\n",
        "if divisible by 3 print fizz\n",
        "if divisible by 5 print buzz\n",
        "if divisible by bot print both\n"
      ],
      "metadata": {
        "id": "p7f4Rw5NtySD"
      }
    },
    {
      "cell_type": "code",
      "source": [
        "for i in range(1,101):\n",
        "  if i%3==0 and i%5==0:\n",
        "    print(\"Fizz Buzz\")\n",
        "  if i%3==0:\n",
        "    print(\"Fizz\")\n",
        "  if i%5==0:\n",
        "    print(\"Buzz\")\n",
        "  else: \n",
        "    print(i)"
      ],
      "metadata": {
        "id": "KUkjKn88t2MR"
      },
      "execution_count": null,
      "outputs": []
    },
    {
      "cell_type": "markdown",
      "source": [
        "Random Password Generator\n",
        "---\n"
      ],
      "metadata": {
        "id": "9fEEyAJP2Vcp"
      }
    },
    {
      "cell_type": "code",
      "source": [
        "#Password Generator Project\n",
        "import random\n",
        "letters = ['a', 'b', 'c', 'd', 'e', 'f', 'g', 'h', 'i', 'j', 'k', 'l', 'm', 'n', 'o', 'p', 'q', 'r', 's', 't', 'u', 'v', 'w', 'x', 'y', 'z', 'A', 'B', 'C', 'D', 'E', 'F', 'G', 'H', 'I', 'J', 'K', 'L', 'M', 'N', 'O', 'P', 'Q', 'R', 'S', 'T', 'U', 'V', 'W', 'X', 'Y', 'Z']\n",
        "numbers = ['0', '1', '2', '3', '4', '5', '6', '7', '8', '9']\n",
        "symbols = ['!', '#', '$', '%', '&', '(', ')', '*', '+']\n",
        "\n",
        "print(\"Welcome to the PyPassword Generator!\")\n",
        "nr_letters= int(input(\"How many letters would you like in your password?\\n\")) \n",
        "nr_symbols = int(input(f\"How many symbols would you like?\\n\"))\n",
        "nr_numbers = int(input(f\"How many numbers would you like?\\n\"))"
      ],
      "metadata": {
        "colab": {
          "base_uri": "https://localhost:8080/"
        },
        "id": "_raedarx2bqh",
        "outputId": "34925cf5-053c-414d-e473-5a3e17eef8db"
      },
      "execution_count": 39,
      "outputs": [
        {
          "name": "stdout",
          "output_type": "stream",
          "text": [
            "Welcome to the PyPassword Generator!\n",
            "How many letters would you like in your password?\n",
            "12\n",
            "How many symbols would you like?\n",
            "3\n",
            "How many numbers would you like?\n",
            "4\n"
          ]
        }
      ]
    },
    {
      "cell_type": "code",
      "source": [
        "#Easy level\n",
        "letr,sym,num='','',''\n",
        "for i in range(nr_letters):\n",
        "  #total number of letters\n",
        "  letr += random.choice(letters)\n",
        "for i in range(nr_symbols):\n",
        "  #total number of symbols\n",
        "  sym += random.choice(symbols)\n",
        "for i in range(nr_numbers):\n",
        "  #total number of letters\n",
        "  num += random.choice(numbers)\n",
        "\n",
        "print(letr+sym+num)\n"
      ],
      "metadata": {
        "colab": {
          "base_uri": "https://localhost:8080/"
        },
        "id": "fScfLL_-22Mh",
        "outputId": "348b2387-2505-4456-b29e-95cdcd3594dc"
      },
      "execution_count": 40,
      "outputs": [
        {
          "output_type": "stream",
          "name": "stdout",
          "text": [
            "nkRRqRLHoMFB!)(8676\n"
          ]
        }
      ]
    },
    {
      "cell_type": "code",
      "source": [
        "#Hard level\n",
        "letr,sym,num='','',''\n",
        "l=[]\n",
        "final_password=''\n",
        "for i in range(nr_letters):  #total number of letters\n",
        "  letr += random.choice(letters)\n",
        "for i in range(nr_symbols):  #total number of symbols\n",
        "  sym += random.choice(symbols)\n",
        "for i in range(nr_numbers):  #total number of letters\n",
        "  num += random.choice(numbers)\n",
        "\n",
        "pwds=letr+sym+num\n",
        "for lattar in pwds:\n",
        "  l.append(lattar)\n",
        "random.shuffle(l)\n",
        "for char in l:\n",
        "  final_password+=char\n",
        "print(final_password)"
      ],
      "metadata": {
        "colab": {
          "base_uri": "https://localhost:8080/"
        },
        "id": "VEGUy0dL4txx",
        "outputId": "79c16b7a-c17b-4de7-8f8b-4d175141b5a7"
      },
      "execution_count": 41,
      "outputs": [
        {
          "output_type": "stream",
          "name": "stdout",
          "text": [
            "9MWWO$Qp$0L8dup2Nd+\n"
          ]
        }
      ]
    }
  ]
}